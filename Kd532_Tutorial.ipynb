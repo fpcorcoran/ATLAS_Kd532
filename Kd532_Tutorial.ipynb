{
 "cells": [
  {
   "cell_type": "markdown",
   "metadata": {},
   "source": [
    "# ICESat-2 ATLAS $K_{d532}$ Tutorial\n",
    "<img src=\"ICESat2_Schematic.png\"></img>\n",
    "## Overview\n",
    "Turbidity, the capacity of water to attenuate light, is an important metric in many fields of coastal ocean research and engineering. As a result, a number of techniques have been developed to measure the diffuse attenuation coefficient – a common metric for turbidity – both in situ and via remote sensing. On a global scale, turbidity is most commonly measured using passive satellite spectrometry. While these techniques have been shown to be reliable in many regions, they are not able to directly measure diffuse attenuation at depth and instead rely on the water leaving irradiance. In this study, we propose an active remote sensing method to measure the diffuse attenuation at 532nm ($K_{d532}$) using the Advance Topographic Laser Altimeter System (ATLAS) on board NASA’s Ice, Cloud, and land Elevation Satellite 2 (ICESat-2). This method, in contrast to previous studies, does not rely heavily on signal processing techniques such as deconvolution, but instead employs a Random Forest Regression model. The method is designed such that it can be deployed across a broad range of geographic locations, as opposed to a single site. Additionally, it is compatible with imagery-based Kd products, such that it can be seamlessly integrated with those products and used to fill in data gaps—especially close to shore. We tested this regression model against $K_{d532}$ measurements taken by the NOAA’s Visible Infrared Imaging Radiometer (VIIRS) and found that it scored an R2 of 0.67 ± 0.12 with a mean squared error of 0.34 ± 0.14 m-1, a mean absolute error of 0.31 ± 0.4 m-1 and a mean relative difference of 1.07±0.25. These accuracy metrics serve as a benchmark for future machine learning regression studies of turbidity using ICESat-2.\n",
    "<br></br>\n",
    "**Click [here](https://orst.library.ingentaconnect.com/content/asprs/pers/2021/00000087/00000011/art00011) for more information on the scientific and algorithmic background for this project.** \n",
    "<br></br> \n",
    "*<u>Prefered Citation:</u>*\n",
    "<br></br>\n",
    "F. Corcoran and C. E. Parrish, “Diffuse Attenuation Coefficient ($K_{d}$) from ICESat-2 ATLAS Spaceborne Lidar Using Random-Forest Regression,” photogramm eng remote sensing, vol. 87, no. 11, pp. 831–840, Nov. 2021, doi: 10.14358/PERS.21-00013R2.\n",
    "<br></br>\n",
    "**Acknowledgements:**\n",
    "<br></br>\n",
    "Funding for this research was provided by NASA ROSES Grant\n",
    "80NSSC20K0964, “ICESat-2 Bathymetric Studies, Product\n",
    "Development and Data Validation,” and subaward UTA20-\n",
    "000752 from Applied Research Laboratories, The University\n",
    "of Texas at Austin, to Oregon State University. We gratefully\n",
    "acknowledge the support of Lori Magruder, University\n",
    "of Texas Principal Investigator and ICESat-2 Science Team\n",
    "Lead.. We would also like to express our gratitude to the\n",
    "research teams at OSU and UT Austin for ongoing collaboration\n",
    "on ICESat-2 bathymetric mapping research and to David\n",
    "Harding of NASA’s Goddard Space Flight Center for technical\n",
    "input. Additionally, we are grateful for the helpful comments\n",
    "of the three anonymous reviewers.\n"
   ]
  },
  {
   "cell_type": "code",
   "execution_count": 7,
   "metadata": {},
   "outputs": [],
   "source": [
    "import os\n",
    "import numpy as np\n",
    "import pandas as pd\n",
    "import matplotlib.pyplot as plt\n",
    "import pickle\n",
    "import pyproj\n",
    "import h5py\n",
    "\n",
    "from waveform_utils import file2pointcloud, pointcloud2waveform, displayWaveforms\n",
    "from features import computeFeatures"
   ]
  },
  {
   "cell_type": "markdown",
   "metadata": {},
   "source": [
    "# Input File (.h5) and Ouput Location (.csv)"
   ]
  },
  {
   "cell_type": "code",
   "execution_count": 11,
   "metadata": {},
   "outputs": [],
   "source": [
    "filename = \"processed_ATL03_20200406100806_01660706_003_01.h5\"\n",
    "output_csv_name = \"Example.csv\""
   ]
  },
  {
   "cell_type": "markdown",
   "metadata": {},
   "source": [
    "## Load Data"
   ]
  },
  {
   "cell_type": "code",
   "execution_count": 2,
   "metadata": {},
   "outputs": [
    {
     "name": "stdin",
     "output_type": "stream",
     "text": [
      "Display Waveforms? [yes|no] no\n"
     ]
    },
    {
     "name": "stdout",
     "output_type": "stream",
     "text": [
      "OK\n"
     ]
    }
   ],
   "source": [
    "#Generate pointclouds and compute waveforms from pointclouds\n",
    "pointclouds = file2pointcloud(filename)\n",
    "waveforms = pointcloud2waveform(pointclouds)\n",
    "\n",
    "displayWaveforms(waveforms)"
   ]
  },
  {
   "cell_type": "markdown",
   "metadata": {},
   "source": [
    "## Preprocessing"
   ]
  },
  {
   "cell_type": "code",
   "execution_count": 3,
   "metadata": {},
   "outputs": [
    {
     "data": {
      "text/html": [
       "<div>\n",
       "<style scoped>\n",
       "    .dataframe tbody tr th:only-of-type {\n",
       "        vertical-align: middle;\n",
       "    }\n",
       "\n",
       "    .dataframe tbody tr th {\n",
       "        vertical-align: top;\n",
       "    }\n",
       "\n",
       "    .dataframe thead th {\n",
       "        text-align: right;\n",
       "    }\n",
       "</style>\n",
       "<table border=\"1\" class=\"dataframe\">\n",
       "  <thead>\n",
       "    <tr style=\"text-align: right;\">\n",
       "      <th></th>\n",
       "      <th>Kurtosis</th>\n",
       "      <th>Std Dev</th>\n",
       "      <th>Mean</th>\n",
       "      <th>AUC Ratio</th>\n",
       "      <th>Pearson 1</th>\n",
       "      <th>Q3</th>\n",
       "      <th>M.A.D.</th>\n",
       "      <th>Skewness</th>\n",
       "      <th>MaxSlope</th>\n",
       "      <th># Peaks</th>\n",
       "    </tr>\n",
       "  </thead>\n",
       "  <tbody>\n",
       "    <tr>\n",
       "      <th>gt1l</th>\n",
       "      <td>1.353073</td>\n",
       "      <td>11.621410</td>\n",
       "      <td>98.981003</td>\n",
       "      <td>8.584156</td>\n",
       "      <td>0.084413</td>\n",
       "      <td>45.50</td>\n",
       "      <td>10.0</td>\n",
       "      <td>1.149678</td>\n",
       "      <td>26880.0</td>\n",
       "      <td>7.0</td>\n",
       "    </tr>\n",
       "    <tr>\n",
       "      <th>gt1r</th>\n",
       "      <td>1.361393</td>\n",
       "      <td>11.619068</td>\n",
       "      <td>99.286207</td>\n",
       "      <td>9.221006</td>\n",
       "      <td>-0.233564</td>\n",
       "      <td>203.75</td>\n",
       "      <td>37.5</td>\n",
       "      <td>1.152267</td>\n",
       "      <td>94740.0</td>\n",
       "      <td>16.0</td>\n",
       "    </tr>\n",
       "    <tr>\n",
       "      <th>gt2l</th>\n",
       "      <td>1.449670</td>\n",
       "      <td>9.037528</td>\n",
       "      <td>97.631915</td>\n",
       "      <td>9.204015</td>\n",
       "      <td>-0.040728</td>\n",
       "      <td>24.25</td>\n",
       "      <td>9.0</td>\n",
       "      <td>1.182633</td>\n",
       "      <td>10440.0</td>\n",
       "      <td>2.0</td>\n",
       "    </tr>\n",
       "    <tr>\n",
       "      <th>gt2r</th>\n",
       "      <td>1.473067</td>\n",
       "      <td>8.982610</td>\n",
       "      <td>97.762092</td>\n",
       "      <td>9.417760</td>\n",
       "      <td>-0.026485</td>\n",
       "      <td>75.50</td>\n",
       "      <td>29.0</td>\n",
       "      <td>1.191087</td>\n",
       "      <td>34020.0</td>\n",
       "      <td>8.0</td>\n",
       "    </tr>\n",
       "    <tr>\n",
       "      <th>gt3l</th>\n",
       "      <td>1.420636</td>\n",
       "      <td>9.306448</td>\n",
       "      <td>97.670724</td>\n",
       "      <td>8.439654</td>\n",
       "      <td>-0.035381</td>\n",
       "      <td>20.00</td>\n",
       "      <td>9.0</td>\n",
       "      <td>1.172304</td>\n",
       "      <td>8510.0</td>\n",
       "      <td>2.0</td>\n",
       "    </tr>\n",
       "    <tr>\n",
       "      <th>gt3r</th>\n",
       "      <td>1.444898</td>\n",
       "      <td>9.557283</td>\n",
       "      <td>97.505076</td>\n",
       "      <td>8.182532</td>\n",
       "      <td>-0.051785</td>\n",
       "      <td>98.75</td>\n",
       "      <td>43.0</td>\n",
       "      <td>1.180599</td>\n",
       "      <td>32830.0</td>\n",
       "      <td>10.0</td>\n",
       "    </tr>\n",
       "  </tbody>\n",
       "</table>\n",
       "</div>"
      ],
      "text/plain": [
       "      Kurtosis    Std Dev       Mean  AUC Ratio  Pearson 1      Q3  M.A.D.  \\\n",
       "gt1l  1.353073  11.621410  98.981003   8.584156   0.084413   45.50    10.0   \n",
       "gt1r  1.361393  11.619068  99.286207   9.221006  -0.233564  203.75    37.5   \n",
       "gt2l  1.449670   9.037528  97.631915   9.204015  -0.040728   24.25     9.0   \n",
       "gt2r  1.473067   8.982610  97.762092   9.417760  -0.026485   75.50    29.0   \n",
       "gt3l  1.420636   9.306448  97.670724   8.439654  -0.035381   20.00     9.0   \n",
       "gt3r  1.444898   9.557283  97.505076   8.182532  -0.051785   98.75    43.0   \n",
       "\n",
       "      Skewness  MaxSlope  # Peaks  \n",
       "gt1l  1.149678   26880.0      7.0  \n",
       "gt1r  1.152267   94740.0     16.0  \n",
       "gt2l  1.182633   10440.0      2.0  \n",
       "gt2r  1.191087   34020.0      8.0  \n",
       "gt3l  1.172304    8510.0      2.0  \n",
       "gt3r  1.180599   32830.0     10.0  "
      ]
     },
     "execution_count": 3,
     "metadata": {},
     "output_type": "execute_result"
    }
   ],
   "source": [
    "features = computeFeatures(waveforms)\n",
    "features.T"
   ]
  },
  {
   "cell_type": "markdown",
   "metadata": {},
   "source": [
    "## Import Model"
   ]
  },
  {
   "cell_type": "code",
   "execution_count": 4,
   "metadata": {},
   "outputs": [
    {
     "name": "stdout",
     "output_type": "stream",
     "text": [
      "<class 'sklearn.ensemble._forest.RandomForestRegressor'>\n"
     ]
    }
   ],
   "source": [
    "model_path = os.path.join(\".\",\"RF_Regression\",\"Kd532_model.pickle\")\n",
    "model = pickle.load(open(model_path, \"rb\"))\n",
    "\n",
    "print(type(model))"
   ]
  },
  {
   "cell_type": "markdown",
   "metadata": {},
   "source": [
    "## Run Model & Save $K_{d 532}$"
   ]
  },
  {
   "cell_type": "code",
   "execution_count": 9,
   "metadata": {},
   "outputs": [],
   "source": [
    "#Run Model\n",
    "kd_532 = model.predict(features.T)\n",
    "\n",
    "#Save Outputs\n",
    "pd.DataFrame.from_dict({\n",
    "    beam:kd for beam, kd in zip(features.columns, kd_532)\n",
    "}).to_csv(output_csv_name)"
   ]
  },
  {
   "cell_type": "code",
   "execution_count": null,
   "metadata": {},
   "outputs": [],
   "source": []
  }
 ],
 "metadata": {
  "kernelspec": {
   "display_name": "Python 3 (ipykernel)",
   "language": "python",
   "name": "python3"
  },
  "language_info": {
   "codemirror_mode": {
    "name": "ipython",
    "version": 3
   },
   "file_extension": ".py",
   "mimetype": "text/x-python",
   "name": "python",
   "nbconvert_exporter": "python",
   "pygments_lexer": "ipython3",
   "version": "3.7.10"
  }
 },
 "nbformat": 4,
 "nbformat_minor": 4
}
